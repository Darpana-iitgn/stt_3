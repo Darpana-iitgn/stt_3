{
 "cells": [
  {
   "cell_type": "code",
   "execution_count": 1,
   "metadata": {},
   "outputs": [],
   "source": [
    "# Import necessary modules\n",
    "\n",
    "import json\n",
    "from collections import defaultdict\n",
    "from statsmodels.stats.inter_rater import fleiss_kappa\n",
    "import numpy as np"
   ]
  },
  {
   "cell_type": "code",
   "execution_count": 2,
   "metadata": {},
   "outputs": [],
   "source": [
    "# Read image paths and json files\n",
    "\n",
    "def get_image_identifier(image_path):\n",
    "    return image_path[-7:]\n",
    "\n",
    "file_to_annotator = {\n",
    "    \"cv_darpana.json\": 1,\n",
    "    \"cv_third.json\": 2,\n",
    "    \"CV_aeshaa.json\": 3}"
   ]
  },
  {
   "cell_type": "code",
   "execution_count": 3,
   "metadata": {},
   "outputs": [],
   "source": [
    "# Read json files to get annotations\n",
    "\n",
    "annotations = []\n",
    "for file_path, annotator_id in file_to_annotator.items():\n",
    "    with open(file_path, \"r\") as f:\n",
    "        data = json.load(f)\n",
    "        for annotation in data:\n",
    "            annotation[\"image\"] = get_image_identifier(annotation[\"image\"])\n",
    "            annotation[\"annotator\"] = annotator_id\n",
    "            annotations.append(annotation)"
   ]
  },
  {
   "cell_type": "code",
   "execution_count": 4,
   "metadata": {},
   "outputs": [],
   "source": [
    "# Create label mapping\n",
    "\n",
    "label_mapping = {}\n",
    "for annotation in annotations:\n",
    "    label = annotation[\"choice\"]\n",
    "    if label not in label_mapping:\n",
    "        label_mapping[label] = len(label_mapping)"
   ]
  },
  {
   "cell_type": "code",
   "execution_count": 5,
   "metadata": {},
   "outputs": [],
   "source": [
    "# Group annotations by image\n",
    "\n",
    "grouped_annotations = defaultdict(lambda: defaultdict(list))\n",
    "for annotation in annotations:\n",
    "    image = annotation[\"image\"]\n",
    "    annotator = annotation[\"annotator\"]\n",
    "    choice = annotation[\"choice\"]\n",
    "    grouped_annotations[image][annotator] = label_mapping[choice]"
   ]
  },
  {
   "cell_type": "code",
   "execution_count": 6,
   "metadata": {},
   "outputs": [],
   "source": [
    "# Build annotation matrix\n",
    "\n",
    "annotators = set(annotation[\"annotator\"] for annotation in annotations)\n",
    "images = list(grouped_annotations.keys())\n",
    "annotation_matrix = []\n",
    "for image in images:\n",
    "    row = []\n",
    "    for annotator in annotators:\n",
    "        row.append(grouped_annotations[image].get(annotator, -1))\n",
    "    annotation_matrix.append(row)"
   ]
  },
  {
   "cell_type": "code",
   "execution_count": 7,
   "metadata": {},
   "outputs": [],
   "source": [
    "# Create frequency matrix\n",
    "\n",
    "num_labels = len(label_mapping)\n",
    "frequency_matrix = np.zeros((len(annotation_matrix), num_labels), dtype=int)\n",
    "for i, row in enumerate(annotation_matrix):\n",
    "    for label in row:\n",
    "        if label != -1:\n",
    "            frequency_matrix[i, label] += 1"
   ]
  },
  {
   "cell_type": "code",
   "execution_count": 8,
   "metadata": {},
   "outputs": [
    {
     "name": "stdout",
     "output_type": "stream",
     "text": [
      "Label Mapping: {'Trucks': 0, 'No Trucks': 1}\n",
      "Fleiss's Kappa: 0.732142857142857\n"
     ]
    }
   ],
   "source": [
    "# Results\n",
    "\n",
    "kappa = fleiss_kappa(frequency_matrix)\n",
    "\n",
    "print(\"Label Mapping:\", label_mapping)\n",
    "print(\"Fleiss's Kappa:\", kappa)"
   ]
  }
 ],
 "metadata": {
  "kernelspec": {
   "display_name": "Python 3",
   "language": "python",
   "name": "python3"
  },
  "language_info": {
   "codemirror_mode": {
    "name": "ipython",
    "version": 3
   },
   "file_extension": ".py",
   "mimetype": "text/x-python",
   "name": "python",
   "nbconvert_exporter": "python",
   "pygments_lexer": "ipython3",
   "version": "3.12.7"
  }
 },
 "nbformat": 4,
 "nbformat_minor": 2
}
