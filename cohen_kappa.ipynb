{
 "cells": [
  {
   "cell_type": "code",
   "execution_count": 1,
   "metadata": {},
   "outputs": [],
   "source": [
    "# Import necessary modules\n",
    "import csv\n",
    "import json\n",
    "from sklearn.metrics import cohen_kappa_score\n",
    "from collections import Counter"
   ]
  },
  {
   "cell_type": "code",
   "execution_count": 2,
   "metadata": {},
   "outputs": [],
   "source": [
    "# Function to read labels from csv files\n",
    "\n",
    "def read_csv(file_path):\n",
    "    annotators = []\n",
    "    with open(file_path, 'r', encoding='utf-8') as file:\n",
    "        reader = csv.DictReader(file)\n",
    "        for row in reader:\n",
    "            try:\n",
    "                annotations = json.loads(row['label'])\n",
    "\n",
    "                for annotation in annotations:\n",
    "                    start = annotation.get('start')  \n",
    "                    end = annotation.get('end')\n",
    "                    text = annotation.get('text')\n",
    "                    labels = annotation.get('labels', []) \n",
    "\n",
    "                    if labels:  \n",
    "                        labels = [label.lower() for label in labels]\n",
    "                    else:\n",
    "                        labels = ['no_label']  \n",
    "\n",
    "                    annotators.append({\n",
    "                        'start': start,\n",
    "                        'end': end,\n",
    "                        'text': text,\n",
    "                        'labels': labels\n",
    "                    })\n",
    "            except json.JSONDecodeError:\n",
    "                print(f\"Error parsing JSON in row: {row}\")\n",
    "    return annotators"
   ]
  },
  {
   "cell_type": "code",
   "execution_count": 3,
   "metadata": {},
   "outputs": [],
   "source": [
    "# Function to calculate Cohen's Kappa\n",
    "\n",
    "def calculate_cohen_kappa(annotations1, annotations2):\n",
    "    \n",
    "    annotator1_labels = [entry['labels'] for entry in annotations1]\n",
    "    annotator2_labels = [entry['labels'] for entry in annotations2]\n",
    "\n",
    "    min_length = min(len(annotator1_labels), len(annotator2_labels))\n",
    "    annotator1_labels = annotator1_labels[:min_length]\n",
    "    annotator2_labels = annotator2_labels[:min_length]\n",
    "\n",
    "    annotator1_labels_flat = [label[0] for label in annotator1_labels]\n",
    "    annotator2_labels_flat = [label[0] for label in annotator2_labels]\n",
    "\n",
    "    kappa = cohen_kappa_score(annotator1_labels_flat, annotator2_labels_flat)\n",
    "    \n",
    "    \n",
    "    print(\"Annotator 1 label distribution:\", Counter([label for labels in annotator1_labels for label in labels]))\n",
    "    print(\"Annotator 2 label distribution:\", Counter([label for labels in annotator2_labels for label in labels]))\n",
    "\n",
    "    return kappa"
   ]
  },
  {
   "cell_type": "code",
   "execution_count": 4,
   "metadata": {},
   "outputs": [
    {
     "name": "stdout",
     "output_type": "stream",
     "text": [
      "Annotator 1 label distribution: Counter({'propn': 143, 'noun': 81, 'adp': 75, 'x': 74, 'verb': 61, 'num': 29, 'adj': 24, 'conj': 13, 'adv': 12, 'pron': 8, 'part': 7, 'pron_wh': 1})\n",
      "Annotator 2 label distribution: Counter({'propn': 143, 'noun': 80, 'adp': 77, 'x': 75, 'verb': 59, 'num': 28, 'adj': 24, 'conj': 14, 'adv': 12, 'pron': 8, 'part': 6, 'pron_wh': 1, 'part_neg': 1})\n"
     ]
    }
   ],
   "source": [
    "# Calculate Cohen's Kappa\n",
    "\n",
    "annotator1 = read_csv('nlp_darpana.csv')\n",
    "annotator2 = read_csv('NLP_aeshaa.csv') \n",
    "kappa_score = calculate_cohen_kappa(annotator1, annotator2)"
   ]
  },
  {
   "cell_type": "code",
   "execution_count": 5,
   "metadata": {},
   "outputs": [
    {
     "name": "stdout",
     "output_type": "stream",
     "text": [
      "Cohen's Kappa: 0.29483220620135253\n"
     ]
    }
   ],
   "source": [
    "# Results\n",
    "\n",
    "if kappa_score is not None:\n",
    "    print(f\"Cohen's Kappa: {kappa_score}\")"
   ]
  }
 ],
 "metadata": {
  "kernelspec": {
   "display_name": "Python 3",
   "language": "python",
   "name": "python3"
  },
  "language_info": {
   "codemirror_mode": {
    "name": "ipython",
    "version": 3
   },
   "file_extension": ".py",
   "mimetype": "text/x-python",
   "name": "python",
   "nbconvert_exporter": "python",
   "pygments_lexer": "ipython3",
   "version": "3.12.7"
  }
 },
 "nbformat": 4,
 "nbformat_minor": 2
}
